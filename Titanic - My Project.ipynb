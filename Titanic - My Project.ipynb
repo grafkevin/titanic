{
 "cells": [
  {
   "cell_type": "markdown",
   "metadata": {
    "toc": true
   },
   "source": [
    "<h1>Table of Contents<span class=\"tocSkip\"></span></h1>\n",
    "<div class=\"toc\"><ul class=\"toc-item\"><li><span><a href=\"#Intro\" data-toc-modified-id=\"Intro-1\"><span class=\"toc-item-num\">1&nbsp;&nbsp;</span>Intro</a></span></li><li><span><a href=\"#Data-visualisation\" data-toc-modified-id=\"Data-visualisation-2\"><span class=\"toc-item-num\">2&nbsp;&nbsp;</span>Data visualisation</a></span><ul class=\"toc-item\"><li><span><a href=\"#Sex\" data-toc-modified-id=\"Sex-2.1\"><span class=\"toc-item-num\">2.1&nbsp;&nbsp;</span>Sex</a></span></li><li><span><a href=\"#Pclass\" data-toc-modified-id=\"Pclass-2.2\"><span class=\"toc-item-num\">2.2&nbsp;&nbsp;</span>Pclass</a></span></li><li><span><a href=\"#Cabin\" data-toc-modified-id=\"Cabin-2.3\"><span class=\"toc-item-num\">2.3&nbsp;&nbsp;</span>Cabin</a></span></li><li><span><a href=\"#Sibsp\" data-toc-modified-id=\"Sibsp-2.4\"><span class=\"toc-item-num\">2.4&nbsp;&nbsp;</span>Sibsp</a></span></li><li><span><a href=\"#Parch\" data-toc-modified-id=\"Parch-2.5\"><span class=\"toc-item-num\">2.5&nbsp;&nbsp;</span>Parch</a></span></li><li><span><a href=\"#Embarked\" data-toc-modified-id=\"Embarked-2.6\"><span class=\"toc-item-num\">2.6&nbsp;&nbsp;</span>Embarked</a></span></li><li><span><a href=\"#Age\" data-toc-modified-id=\"Age-2.7\"><span class=\"toc-item-num\">2.7&nbsp;&nbsp;</span>Age</a></span></li></ul></li><li><span><a href=\"#Data-Cleaning\" data-toc-modified-id=\"Data-Cleaning-3\"><span class=\"toc-item-num\">3&nbsp;&nbsp;</span>Data Cleaning</a></span><ul class=\"toc-item\"><li><span><a href=\"#Impute-missing-Ages\" data-toc-modified-id=\"Impute-missing-Ages-3.1\"><span class=\"toc-item-num\">3.1&nbsp;&nbsp;</span>Impute missing Ages</a></span></li><li><span><a href=\"#Convert-Cabins-to-0s-and-1s\" data-toc-modified-id=\"Convert-Cabins-to-0s-and-1s-3.2\"><span class=\"toc-item-num\">3.2&nbsp;&nbsp;</span>Convert Cabins to 0s and 1s</a></span></li></ul></li><li><span><a href=\"#Encoding-Categorical-Values\" data-toc-modified-id=\"Encoding-Categorical-Values-4\"><span class=\"toc-item-num\">4&nbsp;&nbsp;</span>Encoding Categorical Values</a></span><ul class=\"toc-item\"><li><span><a href=\"#One-Hot-Encoding\" data-toc-modified-id=\"One-Hot-Encoding-4.1\"><span class=\"toc-item-num\">4.1&nbsp;&nbsp;</span>One-Hot Encoding</a></span></li><li><span><a href=\"#Label-Encoding\" data-toc-modified-id=\"Label-Encoding-4.2\"><span class=\"toc-item-num\">4.2&nbsp;&nbsp;</span>Label Encoding</a></span></li><li><span><a href=\"#Target-Encoding\" data-toc-modified-id=\"Target-Encoding-4.3\"><span class=\"toc-item-num\">4.3&nbsp;&nbsp;</span>Target Encoding</a></span></li><li><span><a href=\"#Count-Encoding\" data-toc-modified-id=\"Count-Encoding-4.4\"><span class=\"toc-item-num\">4.4&nbsp;&nbsp;</span>Count Encoding</a></span></li><li><span><a href=\"#Comparing\" data-toc-modified-id=\"Comparing-4.5\"><span class=\"toc-item-num\">4.5&nbsp;&nbsp;</span>Comparing</a></span></li><li><span><a href=\"#Combining-Multiple-Encoders\" data-toc-modified-id=\"Combining-Multiple-Encoders-4.6\"><span class=\"toc-item-num\">4.6&nbsp;&nbsp;</span>Combining Multiple Encoders</a></span></li></ul></li><li><span><a href=\"#Modeling\" data-toc-modified-id=\"Modeling-5\"><span class=\"toc-item-num\">5&nbsp;&nbsp;</span>Modeling</a></span></li></ul></div>"
   ]
  },
  {
   "cell_type": "markdown",
   "metadata": {},
   "source": [
    "# Intro\n",
    "\n",
    "**Abstract**\n",
    "\n",
    "...\n",
    "\n",
    "Our goal is to create a model to predict which passengers survived the Titanic disaster. Therefore our target is column `Survived`.\n",
    "\n",
    "The dataset contains 12 columns: \n",
    "- `PassengerId`: the index\n",
    "- `Survived`: the target variable $y$, 0 = dead, 1 = survived\n",
    "- `Pclass`: the socio-economic status, 1: upper, 2: middle, 3: lower class \n",
    "- `Name` \n",
    "- `Sex`: 65% male, 35% female\n",
    "- `Age`: has 177 missing values\n",
    "- `SibSp`: number of siblings and spouses the passenger had\n",
    "- `Parch`: number of parents and children the passenger had\n",
    "- `Ticket`: unique ticket number\n",
    "- `Fare`: the ticket price the passenger paid\n",
    "- `Cabin`: the cabin number, if a passenger has one, he/she is probably richer than average (77% null values, rest is unique)\n",
    "- `Embarked`: where the passenger embarked the Titanic (72% Southampton, 19% Cherourg, 9% Queenstown) "
   ]
  },
  {
   "cell_type": "code",
   "execution_count": 286,
   "metadata": {},
   "outputs": [
    {
     "name": "stdout",
     "output_type": "stream",
     "text": [
      "(891, 11)\n",
      "(418, 10)\n",
      "(891, 10)\n",
      "(891,)\n",
      "(668, 10)\n",
      "(668,)\n",
      "(223, 10)\n",
      "(223,)\n"
     ]
    }
   ],
   "source": [
    "#data analysis libraries \n",
    "import numpy as np\n",
    "import pandas as pd\n",
    "\n",
    "#visualization libraries\n",
    "import matplotlib.pyplot as plt\n",
    "import seaborn as sns\n",
    "\n",
    "train = pd.read_csv(\"train.csv\", index_col='PassengerId')\n",
    "test = pd.read_csv(\"test.csv\", index_col='PassengerId')\n",
    "print(train.shape)\n",
    "print(test.shape)\n",
    "\n",
    "# Split into training and testing data\n",
    "from sklearn.model_selection import train_test_split\n",
    "\n",
    "X_train_full = train.drop('Survived', axis=1)\n",
    "y_train_full = train.Survived\n",
    "\n",
    "# Split the full training data into two parts for model validation\n",
    "X_train, X_valid, y_train, y_valid = train_test_split(X_train_full, \n",
    "                                                      y_train_full, random_state=0)\n",
    "\n",
    "# Copying the DFs prevents SettingWithCopyWarning\n",
    "X_train = X_train.copy()\n",
    "X_valid = X_valid.copy()\n",
    "\n",
    "print(X_train_full.shape)\n",
    "print(y_train_full.shape)\n",
    "print(X_train.shape)\n",
    "print(y_train.shape)\n",
    "print(X_valid.shape)\n",
    "print(y_valid.shape)"
   ]
  },
  {
   "cell_type": "code",
   "execution_count": 287,
   "metadata": {},
   "outputs": [
    {
     "data": {
      "text/plain": [
       "Survived      0\n",
       "Pclass        0\n",
       "Name          0\n",
       "Sex           0\n",
       "Age         177\n",
       "SibSp         0\n",
       "Parch         0\n",
       "Ticket        0\n",
       "Fare          0\n",
       "Cabin       687\n",
       "Embarked      2\n",
       "dtype: int64"
      ]
     },
     "execution_count": 287,
     "metadata": {},
     "output_type": "execute_result"
    }
   ],
   "source": [
    "# Print the number of missing values for each column\n",
    "pd.isnull(train).sum()"
   ]
  },
  {
   "cell_type": "markdown",
   "metadata": {},
   "source": [
    "`Cabin` and `Age` have many missing entries, `Embarked` has only 2. Regarding `Age` we will later fill the missing data by taking the median age for each title group (Mr, Mrs, Dr, Cpt etc.). The missing `Cabin` entries could indicate that the passenger had no cabin. So probably these passenger are of a lower `Pclass`, which means class 2 or 3. "
   ]
  },
  {
   "cell_type": "code",
   "execution_count": 288,
   "metadata": {},
   "outputs": [
    {
     "data": {
      "text/plain": [
       "<matplotlib.axes._subplots.AxesSubplot at 0x2165022c730>"
      ]
     },
     "execution_count": 288,
     "metadata": {},
     "output_type": "execute_result"
    },
    {
     "data": {
      "image/png": "[encoded data removed]",
      "text/plain": [
       "<Figure size 432x288 with 2 Axes>"
      ]
     },
     "metadata": {
      "needs_background": "light"
     },
     "output_type": "display_data"
    }
   ],
   "source": [
    "# Plot a correlation matrix between all numerrical columns\n",
    "correlation = train.corr()\n",
    "sns.heatmap(correlation, annot=True)"
   ]
  },
  {
   "cell_type": "markdown",
   "metadata": {},
   "source": [
    "The heatmap shows the correlation between all numerical features. The most interesting correlations are for the target `Survived`. The lower the `Pclass`, `Age` and `Sibsp` the higher the survival rate. Also, the higher the `Fare` and `Parch` the higher the survival rate. Moreover, we see that the older the passenger the more likely he/she is part of a higher socio-economic class (1 or 2, shown as a negative correlation). \n",
    "\n",
    "With this overview, we will now take a closer look at some data visualisations to better understand the Titanic passengers."
   ]
  },
  {
   "cell_type": "markdown",
   "metadata": {},
   "source": [
    "# Data visualisation\n"
   ]
  },
  {
   "cell_type": "markdown",
   "metadata": {},
   "source": [
    "## Sex\n",
    "\n",
    "The training dataset shows: \n",
    "- 577 males and 314 females \n",
    "- More women survived than men.\n",
    "- 74% of the women survived (233 out of 314)\n",
    "- 19% of the men survived (109 out of 577)\n",
    "\n",
    "_The grey lines in the barplots show a 95% confidence interval. This means that we are 95% sure that the stated interval (the length of the error bar) captures the true mean survival rate of men and women._"
   ]
  },
  {
   "cell_type": "code",
   "execution_count": 289,
   "metadata": {
    "scrolled": false
   },
   "outputs": [
    {
     "name": "stdout",
     "output_type": "stream",
     "text": [
      "male      577\n",
      "female    314\n",
      "Name: Sex, dtype: int64\n",
      "0     81\n",
      "1    233\n",
      "Name: Survived, dtype: int64\n",
      "0    468\n",
      "1    109\n",
      "Name: Survived, dtype: int64\n"
     ]
    },
    {
     "data": {
      "image/png": "[encoded data removed]",
      "text/plain": [
       "<Figure size 432x288 with 1 Axes>"
      ]
     },
     "metadata": {
      "needs_background": "light"
     },
     "output_type": "display_data"
    }
   ],
   "source": [
    "sns.barplot(x=train['Sex'], y=train['Survived'])\n",
    "\n",
    "print(train['Sex'].value_counts())\n",
    "print(train['Survived'][train['Sex'] == 'female'].value_counts(sort=False))\n",
    "print(train['Survived'][train['Sex'] ==   'male'].value_counts(sort=False))"
   ]
  },
  {
   "cell_type": "markdown",
   "metadata": {},
   "source": [
    "## Pclass\n",
    "The socio-economic status has an impact on the passenger's survival chances. The lower the class the lower the chances of survival."
   ]
  },
  {
   "cell_type": "code",
   "execution_count": 290,
   "metadata": {
    "scrolled": false
   },
   "outputs": [
    {
     "name": "stdout",
     "output_type": "stream",
     "text": [
      "0     80\n",
      "1    136\n",
      "Name: Survived, dtype: int64\n",
      "0    97\n",
      "1    87\n",
      "Name: Survived, dtype: int64\n",
      "0    372\n",
      "1    119\n",
      "Name: Survived, dtype: int64\n"
     ]
    },
    {
     "data": {
      "image/png": "[encoded data removed]",
      "text/plain": [
       "<Figure size 432x288 with 1 Axes>"
      ]
     },
     "metadata": {
      "needs_background": "light"
     },
     "output_type": "display_data"
    }
   ],
   "source": [
    "sns.barplot(x=train.Pclass, y=train.Survived)\n",
    "print(train['Survived'][train['Pclass'] == 1].value_counts(sort=False))\n",
    "print(train['Survived'][train['Pclass'] == 2].value_counts(sort=False))\n",
    "print(train['Survived'][train['Pclass'] == 3].value_counts(sort=False))"
   ]
  },
  {
   "cell_type": "markdown",
   "metadata": {},
   "source": [
    "## Cabin\n",
    "- The average survival rate for passengers with a cabin is 66.67%.\n",
    "- For passengers without a cabin it is 30%.\n",
    "- The cabin feature could be an important feature to predict survival rate.\n",
    "- We will encode it binary (0=no cabin, 1=cabin).\n",
    "\n",
    "`Cabin` x `Pclass`:\n",
    "- Most missing cabin numbers are from passengers with a lower class (2 or 3). \n",
    "- Thus, we can infer that a missing cabin number means that the passenger had no cabin. \n",
    "- Having a cabin was mostly reserved for first class passengers."
   ]
  },
  {
   "cell_type": "code",
   "execution_count": 291,
   "metadata": {},
   "outputs": [
    {
     "name": "stdout",
     "output_type": "stream",
     "text": [
      "0.6666666666666666\n",
      "0.29985443959243085\n"
     ]
    }
   ],
   "source": [
    "# Average surival rate among passengers with and without a cabin \n",
    "mean_survival_cabin = train[train.Cabin.notna()].Survived.mean()\n",
    "mean_survival_no_cabin = train[train.Cabin.isna()].Survived.mean()\n",
    "\n",
    "print(mean_survival_cabin)\n",
    "print(mean_survival_no_cabin)"
   ]
  },
  {
   "cell_type": "code",
   "execution_count": 292,
   "metadata": {},
   "outputs": [
    {
     "name": "stdout",
     "output_type": "stream",
     "text": [
      "1    0.814815\n",
      "2    0.086957\n",
      "3    0.024440\n",
      "Name: Pclass, dtype: float64\n"
     ]
    },
    {
     "data": {
      "image/png": "[encoded data removed]",
      "text/plain": [
       "<Figure size 432x288 with 1 Axes>"
      ]
     },
     "metadata": {
      "needs_background": "light"
     },
     "output_type": "display_data"
    }
   ],
   "source": [
    "# No. of passengers with a cabin grouped by Pclass\n",
    "pclass_cabin = train.Pclass[train.Cabin.notna()].value_counts(sort=False)\n",
    "\n",
    "# No. of all passengers grouped by Pclass\n",
    "pclass = train.Pclass.value_counts(sort=False)\n",
    "\n",
    "# Barplot without cabins\n",
    "sns.barplot(y=pclass_cabin/pclass, x=[1,2,3])\n",
    "plt.title('Ratio of passengers with a cabin grouped by Pclass')\n",
    "\n",
    "print(pclass_cabin/pclass)"
   ]
  },
  {
   "cell_type": "markdown",
   "metadata": {},
   "source": [
    "## Sibsp\n",
    "- Passengers with 1 sibling or spouse have the highest survival chance on average. \n",
    "- The more siblings or spouses one has, the lower the chances. Probably this applies to children.\n",
    "\n",
    "_The long error bars stem from the low sample size._"
   ]
  },
  {
   "cell_type": "code",
   "execution_count": 293,
   "metadata": {},
   "outputs": [
    {
     "name": "stdout",
     "output_type": "stream",
     "text": [
      "SibSp\n",
      "0    0.345395\n",
      "1    0.535885\n",
      "2    0.464286\n",
      "3    0.250000\n",
      "4    0.166667\n",
      "5    0.000000\n",
      "8    0.000000\n",
      "Name: Survived, dtype: float64\n",
      "SibSp\n",
      "0    608\n",
      "1    209\n",
      "2     28\n",
      "3     16\n",
      "4     18\n",
      "5      5\n",
      "8      7\n",
      "Name: Survived, dtype: int64\n"
     ]
    },
    {
     "data": {
      "text/plain": [
       "<matplotlib.axes._subplots.AxesSubplot at 0x21651859eb0>"
      ]
     },
     "execution_count": 293,
     "metadata": {},
     "output_type": "execute_result"
    },
    {
     "data": {
      "image/png": "[encoded data removed]",
      "text/plain": [
       "<Figure size 432x288 with 1 Axes>"
      ]
     },
     "metadata": {
      "needs_background": "light"
     },
     "output_type": "display_data"
    }
   ],
   "source": [
    "# Average survival rate for each number of SibSp\n",
    "print(train.groupby('SibSp').Survived.mean())\n",
    "\n",
    "# No. of passengers with grouped by SipSp\n",
    "print(train.groupby('SibSp').Survived.count())\n",
    "\n",
    "# Barplot\n",
    "sns.barplot(x=train.SibSp, y=train.Survived)"
   ]
  },
  {
   "cell_type": "markdown",
   "metadata": {},
   "source": [
    "## Parch\n",
    "This plot shows that passengers with no parents or children had the lowest survival rate. Passengers with 1 or parents or children could indeed be children. "
   ]
  },
  {
   "cell_type": "code",
   "execution_count": 294,
   "metadata": {},
   "outputs": [
    {
     "name": "stdout",
     "output_type": "stream",
     "text": [
      "Parch\n",
      "0    0.343658\n",
      "1    0.550847\n",
      "2    0.500000\n",
      "3    0.600000\n",
      "4    0.000000\n",
      "5    0.200000\n",
      "6    0.000000\n",
      "Name: Survived, dtype: float64\n",
      "Parch\n",
      "0    678\n",
      "1    118\n",
      "2     80\n",
      "3      5\n",
      "4      4\n",
      "5      5\n",
      "6      1\n",
      "Name: Survived, dtype: int64\n"
     ]
    },
    {
     "data": {
      "text/plain": [
       "<matplotlib.axes._subplots.AxesSubplot at 0x2164f78b640>"
      ]
     },
     "execution_count": 294,
     "metadata": {},
     "output_type": "execute_result"
    },
    {
     "data": {
      "image/png": "[encoded data removed]",
      "text/plain": [
       "<Figure size 432x288 with 1 Axes>"
      ]
     },
     "metadata": {
      "needs_background": "light"
     },
     "output_type": "display_data"
    }
   ],
   "source": [
    "# Average survival rate grouped by number of parents or children\n",
    "print(train.groupby('Parch').Survived.mean())\n",
    "\n",
    "# No. of passengers grouped by number of parents or children\n",
    "print(train.groupby('Parch').Survived.count())\n",
    "\n",
    "# Barplot\n",
    "sns.barplot(x=train.Parch, y=train.Survived)"
   ]
  },
  {
   "cell_type": "markdown",
   "metadata": {},
   "source": [
    "## Embarked\n",
    "- Passengers who embarked in Cherourg were more likely to survive. \n",
    "- The cross table between Embarked and Pclass shows that many high-class passengers embarked at C. which could explain the high survival rate. \n",
    "- We also see that the majority embarked in S where also 40% of all low-class passengers embarked."
   ]
  },
  {
   "cell_type": "code",
   "execution_count": 295,
   "metadata": {},
   "outputs": [
    {
     "data": {
      "text/plain": [
       "<matplotlib.axes._subplots.AxesSubplot at 0x216519211f0>"
      ]
     },
     "execution_count": 295,
     "metadata": {},
     "output_type": "execute_result"
    },
    {
     "data": {
      "image/png": "[encoded data removed]",
      "text/plain": [
       "<Figure size 432x288 with 1 Axes>"
      ]
     },
     "metadata": {
      "needs_background": "light"
     },
     "output_type": "display_data"
    }
   ],
   "source": [
    "sns.barplot(x=train.Embarked, y=train.Survived)"
   ]
  },
  {
   "cell_type": "code",
   "execution_count": 296,
   "metadata": {
    "scrolled": true
   },
   "outputs": [
    {
     "data": {
      "text/plain": [
       "Text(0.5, 1.0, 'Cross-table: Embarked x Pclass')"
      ]
     },
     "execution_count": 296,
     "metadata": {},
     "output_type": "execute_result"
    },
    {
     "data": {
      "image/png": "[encoded data removed]",
      "text/plain": [
       "<Figure size 432x288 with 2 Axes>"
      ]
     },
     "metadata": {
      "needs_background": "light"
     },
     "output_type": "display_data"
    }
   ],
   "source": [
    "cross = pd.crosstab(train.Embarked, train.Pclass, normalize=True)\n",
    "# normalize=True means that all fields will sum up to 1\n",
    "sns.heatmap(cross, annot=True)\n",
    "plt.title('Cross-table: Embarked x Pclass')"
   ]
  },
  {
   "cell_type": "markdown",
   "metadata": {},
   "source": [
    "## Age\n",
    "We see that babies had the highest survival rate,  seniors the lowest. The survival rate for other age groups is very similar."
   ]
  },
  {
   "cell_type": "code",
   "execution_count": 297,
   "metadata": {},
   "outputs": [
    {
     "data": {
      "image/png": "[encoded data removed]",
      "text/plain": [
       "<Figure size 432x288 with 1 Axes>"
      ]
     },
     "metadata": {
      "needs_background": "light"
     },
     "output_type": "display_data"
    }
   ],
   "source": [
    "#fill missing age values (NA) with -0.5 so they don't distort the analysis\n",
    "X_train['Age'] = X_train['Age'].fillna(-0.5)\n",
    "X_valid['Age'] = X_valid['Age'].fillna(-0.5)\n",
    "\n",
    "#segment the ages into bins\n",
    "bins = [-1,0,5,12,18,24,35,60,np.inf]\n",
    "labels = ['Unknown','Baby','Child','Teenager',\n",
    "          'Student','Young Adult','Adult','Senior']\n",
    "\n",
    "#Here we add a new column 'AgeGroup' to the X_train and X_valid dataframes\n",
    "X_train['AgeGroup'] = pd.cut(X_train['Age'], bins, labels = labels)\n",
    "X_valid['AgeGroup'] = pd.cut(X_valid['Age'], bins, labels = labels)\n",
    "\n",
    "#draw bar plot\n",
    "sns.barplot(x=X_train.AgeGroup, y=y_train)\n",
    "plt.title('Survival rate for each age group')\n",
    "plt.show()"
   ]
  },
  {
   "cell_type": "markdown",
   "metadata": {},
   "source": [
    "# Data Cleaning\n",
    "## Impute missing Ages\n",
    "The age feature is an important predictor. Therefore, we need to fix the 177 missing ages. We will look for the age mode for each title. For instance, all passengers with the title 'Mr.' fall in the age group of young adult."
   ]
  },
  {
   "cell_type": "code",
   "execution_count": 298,
   "metadata": {
    "scrolled": true
   },
   "outputs": [
    {
     "data": {
      "text/html": [
       "<div>\n",
       "<style scoped>\n",
       "    .dataframe tbody tr th:only-of-type {\n",
       "        vertical-align: middle;\n",
       "    }\n",
       "\n",
       "    .dataframe tbody tr th {\n",
       "        vertical-align: top;\n",
       "    }\n",
       "\n",
       "    .dataframe thead th {\n",
       "        text-align: right;\n",
       "    }\n",
       "</style>\n",
       "<table border=\"1\" class=\"dataframe\">\n",
       "  <thead>\n",
       "    <tr style=\"text-align: right;\">\n",
       "      <th>Survived</th>\n",
       "      <th>0</th>\n",
       "      <th>1</th>\n",
       "    </tr>\n",
       "    <tr>\n",
       "      <th>Title</th>\n",
       "      <th></th>\n",
       "      <th></th>\n",
       "    </tr>\n",
       "  </thead>\n",
       "  <tbody>\n",
       "    <tr>\n",
       "      <th>Capt</th>\n",
       "      <td>1</td>\n",
       "      <td>0</td>\n",
       "    </tr>\n",
       "    <tr>\n",
       "      <th>Countess</th>\n",
       "      <td>0</td>\n",
       "      <td>1</td>\n",
       "    </tr>\n",
       "    <tr>\n",
       "      <th>Dr</th>\n",
       "      <td>2</td>\n",
       "      <td>1</td>\n",
       "    </tr>\n",
       "    <tr>\n",
       "      <th>Lady</th>\n",
       "      <td>0</td>\n",
       "      <td>1</td>\n",
       "    </tr>\n",
       "    <tr>\n",
       "      <th>Major</th>\n",
       "      <td>1</td>\n",
       "      <td>1</td>\n",
       "    </tr>\n",
       "    <tr>\n",
       "      <th>Master</th>\n",
       "      <td>14</td>\n",
       "      <td>19</td>\n",
       "    </tr>\n",
       "    <tr>\n",
       "      <th>Miss</th>\n",
       "      <td>40</td>\n",
       "      <td>92</td>\n",
       "    </tr>\n",
       "    <tr>\n",
       "      <th>Mlle</th>\n",
       "      <td>0</td>\n",
       "      <td>2</td>\n",
       "    </tr>\n",
       "    <tr>\n",
       "      <th>Mme</th>\n",
       "      <td>0</td>\n",
       "      <td>1</td>\n",
       "    </tr>\n",
       "    <tr>\n",
       "      <th>Mr</th>\n",
       "      <td>332</td>\n",
       "      <td>62</td>\n",
       "    </tr>\n",
       "    <tr>\n",
       "      <th>Mrs</th>\n",
       "      <td>17</td>\n",
       "      <td>76</td>\n",
       "    </tr>\n",
       "    <tr>\n",
       "      <th>Ms</th>\n",
       "      <td>0</td>\n",
       "      <td>1</td>\n",
       "    </tr>\n",
       "    <tr>\n",
       "      <th>Rev</th>\n",
       "      <td>3</td>\n",
       "      <td>0</td>\n",
       "    </tr>\n",
       "    <tr>\n",
       "      <th>Sir</th>\n",
       "      <td>0</td>\n",
       "      <td>1</td>\n",
       "    </tr>\n",
       "  </tbody>\n",
       "</table>\n",
       "</div>"
      ],
      "text/plain": [
       "Survived    0   1\n",
       "Title            \n",
       "Capt        1   0\n",
       "Countess    0   1\n",
       "Dr          2   1\n",
       "Lady        0   1\n",
       "Major       1   1\n",
       "Master     14  19\n",
       "Miss       40  92\n",
       "Mlle        0   2\n",
       "Mme         0   1\n",
       "Mr        332  62\n",
       "Mrs        17  76\n",
       "Ms          0   1\n",
       "Rev         3   0\n",
       "Sir         0   1"
      ]
     },
     "execution_count": 298,
     "metadata": {},
     "output_type": "execute_result"
    }
   ],
   "source": [
    "# Extract the title from the name with regex\n",
    "X_train['Title'] = X_train['Name'].str.extract(' ([A-Za-z]+)\\.',expand=False)\n",
    "X_valid['Title'] = X_valid['Name'].str.extract(' ([A-Za-z]+)\\.',expand=False)\n",
    "\n",
    "pd.crosstab(X_train['Title'], y_train)\n",
    "\n",
    "# We get the common SettingWithCopyWarning here.\n",
    "# If you know how to fix it, please let me know."
   ]
  },
  {
   "cell_type": "code",
   "execution_count": 299,
   "metadata": {
    "scrolled": true
   },
   "outputs": [
    {
     "data": {
      "text/plain": [
       "Series([], Name: Title, dtype: int64)"
      ]
     },
     "execution_count": 299,
     "metadata": {},
     "output_type": "execute_result"
    }
   ],
   "source": [
    "# No. of missing ages for each title group\n",
    "X_train[X_train.Age.isna()].Title.value_counts()"
   ]
  },
  {
   "cell_type": "code",
   "execution_count": 300,
   "metadata": {},
   "outputs": [],
   "source": [
    "# Replace various titles with more common names\n",
    "X_train['Title'] = X_train['Title'].replace(\n",
    "    ['Capt','Col','Don','Dr','Major','Rev','Jonkheer','Dona'],'Rare')\n",
    "\n",
    "X_train['Title'] = X_train['Title'].replace(['Countess','Lady','Sir'], 'Royal')\n",
    "X_train['Title'] = X_train['Title'].replace('Mlle', 'Miss')\n",
    "X_train['Title'] = X_train['Title'].replace('Ms', 'Miss')\n",
    "X_train['Title'] = X_train['Title'].replace('Mme', 'Mrs')\n",
    "\n",
    "# Replace various titles with more common names\n",
    "X_valid['Title'] = X_valid['Title'].replace(\n",
    "    ['Capt','Col','Don','Dr','Major','Rev','Jonkheer','Dona'],'Rare')\n",
    "\n",
    "X_valid['Title'] = X_valid['Title'].replace(['Countess','Lady','Sir'], 'Royal')\n",
    "X_valid['Title'] = X_valid['Title'].replace('Mlle', 'Miss')\n",
    "X_valid['Title'] = X_valid['Title'].replace('Ms', 'Miss')\n",
    "X_valid['Title'] = X_valid['Title'].replace('Mme', 'Mrs')"
   ]
  },
  {
   "cell_type": "code",
   "execution_count": 301,
   "metadata": {
    "scrolled": true
   },
   "outputs": [],
   "source": [
    "# Fill missing age with mode age group for each title\n",
    "mr_age     = X_train[X_train['Title'] == 'Mr']['AgeGroup'].mode() #young adult\n",
    "miss_age   = X_train[X_train['Title'] == 'Miss']['AgeGroup'].mode() #baby\n",
    "mrs_age    = X_train[X_train['Title'] == 'Mrs']['AgeGroup'].mode() #adult\n",
    "master_age = X_train[X_train['Title'] == 'Master']['AgeGroup'].mode() #baby\n",
    "royal_age  = X_train[X_train['Title'] == 'Royal']['AgeGroup'].mode() #adult\n",
    "rare_age   = X_train[X_train['Title'] == 'Rare']['AgeGroup'].mode() #adult\n",
    "\n",
    "# Based on the mode AgeGroup for each Title we map the missing AgeGroups\n",
    "age_title_mapping = {'Mr':mr_age, 'Miss':miss_age, 'Mrs':mrs_age,\n",
    "                     'Master':master_age, 'Royal':royal_age, 'Rare':rare_age}\n",
    "\n",
    "# Assign the missing age groups according to the title.\n",
    "# For instance, a passenger with title Mister and unknown age will be \n",
    "# assigned to AgeGroup 'Young Adult'.\n",
    "for x in X_train['AgeGroup'].index:\n",
    "    if X_train['AgeGroup'][x] == 'Unknown':\n",
    "        X_train['AgeGroup'][x] = age_title_mapping[X_train['Title'][x]]\n",
    "        \n",
    "#for x in test['AgeGroup'].index:\n",
    "#    if test['AgeGroup'][x] == 'Unknown':\n",
    "#        test['AgeGroup'][x] = age_title_mapping[test['Title'][x]]"
   ]
  },
  {
   "cell_type": "code",
   "execution_count": 302,
   "metadata": {},
   "outputs": [],
   "source": [
    "# Fill missing age with mode age group for each title\n",
    "mr_age     = X_valid[X_valid['Title'] == 'Mr']['AgeGroup'].mode() #young adult\n",
    "miss_age   = X_valid[X_valid['Title'] == 'Miss']['AgeGroup'].mode() #baby\n",
    "mrs_age    = X_valid[X_valid['Title'] == 'Mrs']['AgeGroup'].mode() #adult\n",
    "master_age = X_valid[X_valid['Title'] == 'Master']['AgeGroup'].mode() #baby\n",
    "royal_age  = X_valid[X_valid['Title'] == 'Royal']['AgeGroup'].mode() #adult\n",
    "rare_age   = X_valid[X_valid['Title'] == 'Rare']['AgeGroup'].mode() #adult\n",
    "\n",
    "# Based on the mode AgeGroup for each Title we map the missing AgeGroups\n",
    "age_title_mapping = {'Mr':mr_age, 'Miss':miss_age, 'Mrs':mrs_age,\n",
    "                     'Master':master_age, 'Royal':royal_age, 'Rare':rare_age}\n",
    "\n",
    "# Assign the missing age groups according to the title.\n",
    "# For instance, a passenger with title Mister and unknown age will be \n",
    "# assigned to AgeGroup 'Young Adult'.\n",
    "for x in X_valid['AgeGroup'].index:\n",
    "    if X_valid['AgeGroup'][x] == 'Unknown':\n",
    "        X_valid['AgeGroup'][x] = age_title_mapping[X_valid['Title'][x]]\n",
    "        \n",
    "#for x in test['AgeGroup'].index:\n",
    "#    if test['AgeGroup'][x] == 'Unknown':\n",
    "#        test['AgeGroup'][x] = age_title_mapping[test['Title'][x]]"
   ]
  },
  {
   "cell_type": "markdown",
   "metadata": {},
   "source": [
    "## Convert Cabins to 0s and 1s\n",
    "There are many unique cabin numbers. Therefore, I am going to clean up the dataset by converting all cabin numbers to 1 and any `NaN`s to 0. This helps us to target encode the `Cabin` feature."
   ]
  },
  {
   "cell_type": "code",
   "execution_count": 303,
   "metadata": {
    "scrolled": true
   },
   "outputs": [
    {
     "data": {
      "text/html": [
       "<div>\n",
       "<style scoped>\n",
       "    .dataframe tbody tr th:only-of-type {\n",
       "        vertical-align: middle;\n",
       "    }\n",
       "\n",
       "    .dataframe tbody tr th {\n",
       "        vertical-align: top;\n",
       "    }\n",
       "\n",
       "    .dataframe thead th {\n",
       "        text-align: right;\n",
       "    }\n",
       "</style>\n",
       "<table border=\"1\" class=\"dataframe\">\n",
       "  <thead>\n",
       "    <tr style=\"text-align: right;\">\n",
       "      <th></th>\n",
       "      <th>Pclass</th>\n",
       "      <th>Name</th>\n",
       "      <th>Sex</th>\n",
       "      <th>Age</th>\n",
       "      <th>SibSp</th>\n",
       "      <th>Parch</th>\n",
       "      <th>Ticket</th>\n",
       "      <th>Fare</th>\n",
       "      <th>Cabin</th>\n",
       "      <th>Embarked</th>\n",
       "      <th>AgeGroup</th>\n",
       "      <th>Title</th>\n",
       "      <th>Cabin_01</th>\n",
       "    </tr>\n",
       "    <tr>\n",
       "      <th>PassengerId</th>\n",
       "      <th></th>\n",
       "      <th></th>\n",
       "      <th></th>\n",
       "      <th></th>\n",
       "      <th></th>\n",
       "      <th></th>\n",
       "      <th></th>\n",
       "      <th></th>\n",
       "      <th></th>\n",
       "      <th></th>\n",
       "      <th></th>\n",
       "      <th></th>\n",
       "      <th></th>\n",
       "    </tr>\n",
       "  </thead>\n",
       "  <tbody>\n",
       "    <tr>\n",
       "      <th>106</th>\n",
       "      <td>3</td>\n",
       "      <td>Mionoff, Mr. Stoytcho</td>\n",
       "      <td>male</td>\n",
       "      <td>28.0</td>\n",
       "      <td>0</td>\n",
       "      <td>0</td>\n",
       "      <td>349207</td>\n",
       "      <td>7.8958</td>\n",
       "      <td>NaN</td>\n",
       "      <td>S</td>\n",
       "      <td>Young Adult</td>\n",
       "      <td>Mr</td>\n",
       "      <td>0.0</td>\n",
       "    </tr>\n",
       "    <tr>\n",
       "      <th>69</th>\n",
       "      <td>3</td>\n",
       "      <td>Andersson, Miss. Erna Alexandra</td>\n",
       "      <td>female</td>\n",
       "      <td>17.0</td>\n",
       "      <td>4</td>\n",
       "      <td>2</td>\n",
       "      <td>3101281</td>\n",
       "      <td>7.9250</td>\n",
       "      <td>NaN</td>\n",
       "      <td>S</td>\n",
       "      <td>Teenager</td>\n",
       "      <td>Miss</td>\n",
       "      <td>0.0</td>\n",
       "    </tr>\n",
       "    <tr>\n",
       "      <th>254</th>\n",
       "      <td>3</td>\n",
       "      <td>Lobb, Mr. William Arthur</td>\n",
       "      <td>male</td>\n",
       "      <td>30.0</td>\n",
       "      <td>1</td>\n",
       "      <td>0</td>\n",
       "      <td>A/5. 3336</td>\n",
       "      <td>16.1000</td>\n",
       "      <td>NaN</td>\n",
       "      <td>S</td>\n",
       "      <td>Young Adult</td>\n",
       "      <td>Mr</td>\n",
       "      <td>0.0</td>\n",
       "    </tr>\n",
       "    <tr>\n",
       "      <th>321</th>\n",
       "      <td>3</td>\n",
       "      <td>Dennis, Mr. Samuel</td>\n",
       "      <td>male</td>\n",
       "      <td>22.0</td>\n",
       "      <td>0</td>\n",
       "      <td>0</td>\n",
       "      <td>A/5 21172</td>\n",
       "      <td>7.2500</td>\n",
       "      <td>NaN</td>\n",
       "      <td>S</td>\n",
       "      <td>Student</td>\n",
       "      <td>Mr</td>\n",
       "      <td>0.0</td>\n",
       "    </tr>\n",
       "    <tr>\n",
       "      <th>707</th>\n",
       "      <td>2</td>\n",
       "      <td>Kelly, Mrs. Florence \"Fannie\"</td>\n",
       "      <td>female</td>\n",
       "      <td>45.0</td>\n",
       "      <td>0</td>\n",
       "      <td>0</td>\n",
       "      <td>223596</td>\n",
       "      <td>13.5000</td>\n",
       "      <td>NaN</td>\n",
       "      <td>S</td>\n",
       "      <td>Adult</td>\n",
       "      <td>Mrs</td>\n",
       "      <td>0.0</td>\n",
       "    </tr>\n",
       "  </tbody>\n",
       "</table>\n",
       "</div>"
      ],
      "text/plain": [
       "             Pclass                             Name     Sex   Age  SibSp  \\\n",
       "PassengerId                                                                 \n",
       "106               3            Mionoff, Mr. Stoytcho    male  28.0      0   \n",
       "69                3  Andersson, Miss. Erna Alexandra  female  17.0      4   \n",
       "254               3         Lobb, Mr. William Arthur    male  30.0      1   \n",
       "321               3               Dennis, Mr. Samuel    male  22.0      0   \n",
       "707               2    Kelly, Mrs. Florence \"Fannie\"  female  45.0      0   \n",
       "\n",
       "             Parch     Ticket     Fare Cabin Embarked     AgeGroup Title  \\\n",
       "PassengerId                                                                \n",
       "106              0     349207   7.8958   NaN        S  Young Adult    Mr   \n",
       "69               2    3101281   7.9250   NaN        S     Teenager  Miss   \n",
       "254              0  A/5. 3336  16.1000   NaN        S  Young Adult    Mr   \n",
       "321              0  A/5 21172   7.2500   NaN        S      Student    Mr   \n",
       "707              0     223596  13.5000   NaN        S        Adult   Mrs   \n",
       "\n",
       "             Cabin_01  \n",
       "PassengerId            \n",
       "106               0.0  \n",
       "69                0.0  \n",
       "254               0.0  \n",
       "321               0.0  \n",
       "707               0.0  "
      ]
     },
     "execution_count": 303,
     "metadata": {},
     "output_type": "execute_result"
    }
   ],
   "source": [
    "# Copy\n",
    "X_train['Cabin_01'] = X_train['Cabin'].copy()\n",
    "X_valid['Cabin_01'] = X_valid['Cabin'].copy()\n",
    "\n",
    "# Replace cabin numbers with 1 and NAs with 0\n",
    "X_train['Cabin_01'].replace(to_replace='.*', value=1, regex=True, inplace=True)\n",
    "X_train['Cabin_01'].fillna(0, inplace=True)\n",
    "\n",
    "X_valid['Cabin_01'].replace(to_replace='.*', value=1, regex=True, inplace=True)\n",
    "X_valid['Cabin_01'].fillna(0, inplace=True)\n",
    "\n",
    "X_train.head()\n"
   ]
  },
  {
   "cell_type": "markdown",
   "metadata": {},
   "source": [
    "# Encoding Categorical Values\n",
    "Here, we will compare several encodings and measure their performance with a predefined function. The encoding with the lowest average error will be selected."
   ]
  },
  {
   "cell_type": "code",
   "execution_count": 304,
   "metadata": {},
   "outputs": [],
   "source": [
    "from sklearn.ensemble import RandomForestRegressor\n",
    "from sklearn.metrics import mean_absolute_error\n",
    "\n",
    "# Function for comparing different approaches\n",
    "def score_dataset(X_train, X_valid, y_train, y_valid):\n",
    "    model = RandomForestRegressor(n_estimators=100, random_state=0)\n",
    "    model.fit(X_train, y_train)\n",
    "    preds = model.predict(X_valid)\n",
    "    return mean_absolute_error(y_valid, preds)"
   ]
  },
  {
   "cell_type": "markdown",
   "metadata": {},
   "source": [
    "## One-Hot Encoding\n",
    "One-hot encoding creates an additional column for each unique value. Every column either takes on the value 1 or 0 depending on whether that row contains that value. In the example below, we encode the `Embarked` feature.\n",
    "\n",
    "OH encoding is a suitable encoder for data which is not ordinal but nominal, e.g. colors, countries etc. And it should only be applied when the number of unique values is small, say < 10. Otherwise, we get a sparse matrix which can reduce the accuracy of the chosen prediction model."
   ]
  },
  {
   "cell_type": "code",
   "execution_count": 190,
   "metadata": {},
   "outputs": [
    {
     "data": {
      "text/html": [
       "<div>\n",
       "<style scoped>\n",
       "    .dataframe tbody tr th:only-of-type {\n",
       "        vertical-align: middle;\n",
       "    }\n",
       "\n",
       "    .dataframe tbody tr th {\n",
       "        vertical-align: top;\n",
       "    }\n",
       "\n",
       "    .dataframe thead th {\n",
       "        text-align: right;\n",
       "    }\n",
       "</style>\n",
       "<table border=\"1\" class=\"dataframe\">\n",
       "  <thead>\n",
       "    <tr style=\"text-align: right;\">\n",
       "      <th></th>\n",
       "      <th>C</th>\n",
       "      <th>Q</th>\n",
       "      <th>S</th>\n",
       "    </tr>\n",
       "    <tr>\n",
       "      <th>PassengerId</th>\n",
       "      <th></th>\n",
       "      <th></th>\n",
       "      <th></th>\n",
       "    </tr>\n",
       "  </thead>\n",
       "  <tbody>\n",
       "    <tr>\n",
       "      <th>1</th>\n",
       "      <td>0</td>\n",
       "      <td>0</td>\n",
       "      <td>1</td>\n",
       "    </tr>\n",
       "    <tr>\n",
       "      <th>2</th>\n",
       "      <td>1</td>\n",
       "      <td>0</td>\n",
       "      <td>0</td>\n",
       "    </tr>\n",
       "    <tr>\n",
       "      <th>3</th>\n",
       "      <td>0</td>\n",
       "      <td>0</td>\n",
       "      <td>1</td>\n",
       "    </tr>\n",
       "  </tbody>\n",
       "</table>\n",
       "</div>"
      ],
      "text/plain": [
       "             C  Q  S\n",
       "PassengerId         \n",
       "1            0  0  1\n",
       "2            1  0  0\n",
       "3            0  0  1"
      ]
     },
     "execution_count": 190,
     "metadata": {},
     "output_type": "execute_result"
    }
   ],
   "source": [
    "pd.get_dummies(train.Embarked).head(3)"
   ]
  },
  {
   "cell_type": "code",
   "execution_count": 305,
   "metadata": {},
   "outputs": [
    {
     "data": {
      "text/html": [
       "<div>\n",
       "<style scoped>\n",
       "    .dataframe tbody tr th:only-of-type {\n",
       "        vertical-align: middle;\n",
       "    }\n",
       "\n",
       "    .dataframe tbody tr th {\n",
       "        vertical-align: top;\n",
       "    }\n",
       "\n",
       "    .dataframe thead th {\n",
       "        text-align: right;\n",
       "    }\n",
       "</style>\n",
       "<table border=\"1\" class=\"dataframe\">\n",
       "  <thead>\n",
       "    <tr style=\"text-align: right;\">\n",
       "      <th></th>\n",
       "      <th>Pclass</th>\n",
       "      <th>Name</th>\n",
       "      <th>Age</th>\n",
       "      <th>SibSp</th>\n",
       "      <th>Parch</th>\n",
       "      <th>Ticket</th>\n",
       "      <th>Fare</th>\n",
       "      <th>Cabin</th>\n",
       "      <th>0</th>\n",
       "      <th>1</th>\n",
       "      <th>...</th>\n",
       "      <th>12</th>\n",
       "      <th>13</th>\n",
       "      <th>14</th>\n",
       "      <th>15</th>\n",
       "      <th>16</th>\n",
       "      <th>17</th>\n",
       "      <th>18</th>\n",
       "      <th>19</th>\n",
       "      <th>20</th>\n",
       "      <th>21</th>\n",
       "    </tr>\n",
       "    <tr>\n",
       "      <th>PassengerId</th>\n",
       "      <th></th>\n",
       "      <th></th>\n",
       "      <th></th>\n",
       "      <th></th>\n",
       "      <th></th>\n",
       "      <th></th>\n",
       "      <th></th>\n",
       "      <th></th>\n",
       "      <th></th>\n",
       "      <th></th>\n",
       "      <th></th>\n",
       "      <th></th>\n",
       "      <th></th>\n",
       "      <th></th>\n",
       "      <th></th>\n",
       "      <th></th>\n",
       "      <th></th>\n",
       "      <th></th>\n",
       "      <th></th>\n",
       "      <th></th>\n",
       "      <th></th>\n",
       "    </tr>\n",
       "  </thead>\n",
       "  <tbody>\n",
       "    <tr>\n",
       "      <th>106</th>\n",
       "      <td>3</td>\n",
       "      <td>Mionoff, Mr. Stoytcho</td>\n",
       "      <td>28.0</td>\n",
       "      <td>0</td>\n",
       "      <td>0</td>\n",
       "      <td>349207</td>\n",
       "      <td>7.8958</td>\n",
       "      <td>NaN</td>\n",
       "      <td>0.0</td>\n",
       "      <td>0.0</td>\n",
       "      <td>...</td>\n",
       "      <td>0.0</td>\n",
       "      <td>0.0</td>\n",
       "      <td>0.0</td>\n",
       "      <td>0.0</td>\n",
       "      <td>0.0</td>\n",
       "      <td>0.0</td>\n",
       "      <td>0.0</td>\n",
       "      <td>1.0</td>\n",
       "      <td>1.0</td>\n",
       "      <td>0.0</td>\n",
       "    </tr>\n",
       "    <tr>\n",
       "      <th>69</th>\n",
       "      <td>3</td>\n",
       "      <td>Andersson, Miss. Erna Alexandra</td>\n",
       "      <td>17.0</td>\n",
       "      <td>4</td>\n",
       "      <td>2</td>\n",
       "      <td>3101281</td>\n",
       "      <td>7.9250</td>\n",
       "      <td>NaN</td>\n",
       "      <td>0.0</td>\n",
       "      <td>0.0</td>\n",
       "      <td>...</td>\n",
       "      <td>0.0</td>\n",
       "      <td>0.0</td>\n",
       "      <td>0.0</td>\n",
       "      <td>0.0</td>\n",
       "      <td>0.0</td>\n",
       "      <td>1.0</td>\n",
       "      <td>0.0</td>\n",
       "      <td>0.0</td>\n",
       "      <td>1.0</td>\n",
       "      <td>0.0</td>\n",
       "    </tr>\n",
       "    <tr>\n",
       "      <th>254</th>\n",
       "      <td>3</td>\n",
       "      <td>Lobb, Mr. William Arthur</td>\n",
       "      <td>30.0</td>\n",
       "      <td>1</td>\n",
       "      <td>0</td>\n",
       "      <td>A/5. 3336</td>\n",
       "      <td>16.1000</td>\n",
       "      <td>NaN</td>\n",
       "      <td>0.0</td>\n",
       "      <td>0.0</td>\n",
       "      <td>...</td>\n",
       "      <td>0.0</td>\n",
       "      <td>0.0</td>\n",
       "      <td>0.0</td>\n",
       "      <td>0.0</td>\n",
       "      <td>0.0</td>\n",
       "      <td>0.0</td>\n",
       "      <td>0.0</td>\n",
       "      <td>1.0</td>\n",
       "      <td>1.0</td>\n",
       "      <td>0.0</td>\n",
       "    </tr>\n",
       "    <tr>\n",
       "      <th>321</th>\n",
       "      <td>3</td>\n",
       "      <td>Dennis, Mr. Samuel</td>\n",
       "      <td>22.0</td>\n",
       "      <td>0</td>\n",
       "      <td>0</td>\n",
       "      <td>A/5 21172</td>\n",
       "      <td>7.2500</td>\n",
       "      <td>NaN</td>\n",
       "      <td>0.0</td>\n",
       "      <td>0.0</td>\n",
       "      <td>...</td>\n",
       "      <td>0.0</td>\n",
       "      <td>0.0</td>\n",
       "      <td>0.0</td>\n",
       "      <td>0.0</td>\n",
       "      <td>1.0</td>\n",
       "      <td>0.0</td>\n",
       "      <td>0.0</td>\n",
       "      <td>0.0</td>\n",
       "      <td>1.0</td>\n",
       "      <td>0.0</td>\n",
       "    </tr>\n",
       "    <tr>\n",
       "      <th>707</th>\n",
       "      <td>2</td>\n",
       "      <td>Kelly, Mrs. Florence \"Fannie\"</td>\n",
       "      <td>45.0</td>\n",
       "      <td>0</td>\n",
       "      <td>0</td>\n",
       "      <td>223596</td>\n",
       "      <td>13.5000</td>\n",
       "      <td>NaN</td>\n",
       "      <td>0.0</td>\n",
       "      <td>0.0</td>\n",
       "      <td>...</td>\n",
       "      <td>1.0</td>\n",
       "      <td>0.0</td>\n",
       "      <td>0.0</td>\n",
       "      <td>0.0</td>\n",
       "      <td>0.0</td>\n",
       "      <td>0.0</td>\n",
       "      <td>0.0</td>\n",
       "      <td>0.0</td>\n",
       "      <td>1.0</td>\n",
       "      <td>0.0</td>\n",
       "    </tr>\n",
       "  </tbody>\n",
       "</table>\n",
       "<p>5 rows × 30 columns</p>\n",
       "</div>"
      ],
      "text/plain": [
       "             Pclass                             Name   Age  SibSp  Parch  \\\n",
       "PassengerId                                                                \n",
       "106               3            Mionoff, Mr. Stoytcho  28.0      0      0   \n",
       "69                3  Andersson, Miss. Erna Alexandra  17.0      4      2   \n",
       "254               3         Lobb, Mr. William Arthur  30.0      1      0   \n",
       "321               3               Dennis, Mr. Samuel  22.0      0      0   \n",
       "707               2    Kelly, Mrs. Florence \"Fannie\"  45.0      0      0   \n",
       "\n",
       "                Ticket     Fare Cabin    0    1  ...   12   13   14   15   16  \\\n",
       "PassengerId                                      ...                            \n",
       "106             349207   7.8958   NaN  0.0  0.0  ...  0.0  0.0  0.0  0.0  0.0   \n",
       "69             3101281   7.9250   NaN  0.0  0.0  ...  0.0  0.0  0.0  0.0  0.0   \n",
       "254          A/5. 3336  16.1000   NaN  0.0  0.0  ...  0.0  0.0  0.0  0.0  0.0   \n",
       "321          A/5 21172   7.2500   NaN  0.0  0.0  ...  0.0  0.0  0.0  0.0  1.0   \n",
       "707             223596  13.5000   NaN  0.0  0.0  ...  1.0  0.0  0.0  0.0  0.0   \n",
       "\n",
       "              17   18   19   20   21  \n",
       "PassengerId                           \n",
       "106          0.0  0.0  1.0  1.0  0.0  \n",
       "69           1.0  0.0  0.0  1.0  0.0  \n",
       "254          0.0  0.0  1.0  1.0  0.0  \n",
       "321          0.0  0.0  0.0  1.0  0.0  \n",
       "707          0.0  0.0  0.0  1.0  0.0  \n",
       "\n",
       "[5 rows x 30 columns]"
      ]
     },
     "execution_count": 305,
     "metadata": {},
     "output_type": "execute_result"
    }
   ],
   "source": [
    "from sklearn.preprocessing import OneHotEncoder\n",
    "\n",
    "# Copy to prevent SettingWithCopyWarning\n",
    "X_train_OH = X_train.copy()\n",
    "X_valid_OH = X_valid.copy()\n",
    "\n",
    "# Replace NaNs with 'None'\n",
    "X_train_OH['Embarked'].fillna('None',inplace=True)\n",
    "object_cols = ['Embarked', 'Sex', 'Title', 'AgeGroup', 'Cabin_01']\n",
    "\n",
    "# Apply one-hot encoder to each column with categorical data\n",
    "OH_encoder = OneHotEncoder(sparse=False)\n",
    "OH_cols_train = pd.DataFrame(OH_encoder.fit_transform(X_train_OH[object_cols]))\n",
    "OH_cols_valid = pd.DataFrame(OH_encoder.transform(X_valid_OH[object_cols]))\n",
    "\n",
    "# One-hot encoding removed index; put it back\n",
    "OH_cols_train.index = X_train.index\n",
    "OH_cols_valid.index = X_valid.index\n",
    "\n",
    "# Remove categorical columns (will replace with one-hot encoding)\n",
    "num_X_train = X_train.drop(object_cols, axis=1)\n",
    "num_X_valid = X_valid.drop(object_cols, axis=1)\n",
    "\n",
    "# Add one-hot encoded columns to numerical features\n",
    "X_train_OH = pd.concat([num_X_train, OH_cols_train], axis=1)\n",
    "X_valid_OH = pd.concat([num_X_valid, OH_cols_valid], axis=1)\n",
    "\n",
    "X_train_OH.head()"
   ]
  },
  {
   "cell_type": "code",
   "execution_count": 306,
   "metadata": {},
   "outputs": [
    {
     "data": {
      "text/plain": [
       "0.22713721641352871"
      ]
     },
     "execution_count": 306,
     "metadata": {},
     "output_type": "execute_result"
    }
   ],
   "source": [
    "# Select the features\n",
    "features = pd.Series(X_train_OH.columns, index=X_train_OH.columns)\n",
    "features.drop(['Name','Age','Ticket','Cabin'], axis=0, inplace=True)\n",
    "features = list(features)\n",
    "\n",
    "X_train_OH = X_train_OH[features]\n",
    "X_valid_OH = X_valid_OH[features]\n",
    "\n",
    "# Get score\n",
    "score_OH = score_dataset(X_train_OH, X_valid_OH, y_train, y_valid)\n",
    "score_OH"
   ]
  },
  {
   "cell_type": "markdown",
   "metadata": {},
   "source": [
    "**Challenge of One-Hot Encoding**\n",
    "\n",
    "The Dummy Variable Trap leads to the problem known as multicollinearity. Multicollinearity occurs where there is a dependency between the independent features. Multicollinearity is a serious issue in machine learning models like Linear Regression and Logistic Regression.\n",
    "\n",
    "So, in order to overcome the problem of multicollinearity, one of the dummy variables has to be dropped. Here, I will practically demonstrate how the problem of multicollinearity is introduced after carrying out the one-hot encoding."
   ]
  },
  {
   "cell_type": "markdown",
   "metadata": {},
   "source": [
    "## Label Encoding\n",
    "Label Encoding assign to each unique value an integer. This encoding technique should only be sued for ordinal data where we can order the data in some way (e.g. 'never', 'rarely', 'often'). Assigning integers to nominal data (e.g. countries) could cause the model to understand misleading relationships (e.g. that one country is better or worse than another).\n",
    "\n",
    "On first sight, there seems no reasonable feature that should be encoded in this way. We will still encode `[Embarked, Sex, Title, AgeGroup]` to see how this encoding compares to other techniques."
   ]
  },
  {
   "cell_type": "code",
   "execution_count": 307,
   "metadata": {},
   "outputs": [
    {
     "data": {
      "text/html": [
       "<div>\n",
       "<style scoped>\n",
       "    .dataframe tbody tr th:only-of-type {\n",
       "        vertical-align: middle;\n",
       "    }\n",
       "\n",
       "    .dataframe tbody tr th {\n",
       "        vertical-align: top;\n",
       "    }\n",
       "\n",
       "    .dataframe thead th {\n",
       "        text-align: right;\n",
       "    }\n",
       "</style>\n",
       "<table border=\"1\" class=\"dataframe\">\n",
       "  <thead>\n",
       "    <tr style=\"text-align: right;\">\n",
       "      <th></th>\n",
       "      <th>Pclass</th>\n",
       "      <th>Name</th>\n",
       "      <th>Sex</th>\n",
       "      <th>Age</th>\n",
       "      <th>SibSp</th>\n",
       "      <th>Parch</th>\n",
       "      <th>Ticket</th>\n",
       "      <th>Fare</th>\n",
       "      <th>Cabin</th>\n",
       "      <th>Embarked</th>\n",
       "      <th>AgeGroup</th>\n",
       "      <th>Title</th>\n",
       "      <th>Cabin_01</th>\n",
       "    </tr>\n",
       "    <tr>\n",
       "      <th>PassengerId</th>\n",
       "      <th></th>\n",
       "      <th></th>\n",
       "      <th></th>\n",
       "      <th></th>\n",
       "      <th></th>\n",
       "      <th></th>\n",
       "      <th></th>\n",
       "      <th></th>\n",
       "      <th></th>\n",
       "      <th></th>\n",
       "      <th></th>\n",
       "      <th></th>\n",
       "      <th></th>\n",
       "    </tr>\n",
       "  </thead>\n",
       "  <tbody>\n",
       "    <tr>\n",
       "      <th>106</th>\n",
       "      <td>3</td>\n",
       "      <td>Mionoff, Mr. Stoytcho</td>\n",
       "      <td>1</td>\n",
       "      <td>28.0</td>\n",
       "      <td>0</td>\n",
       "      <td>0</td>\n",
       "      <td>349207</td>\n",
       "      <td>7.8958</td>\n",
       "      <td>NaN</td>\n",
       "      <td>3</td>\n",
       "      <td>7</td>\n",
       "      <td>2</td>\n",
       "      <td>0.0</td>\n",
       "    </tr>\n",
       "    <tr>\n",
       "      <th>69</th>\n",
       "      <td>3</td>\n",
       "      <td>Andersson, Miss. Erna Alexandra</td>\n",
       "      <td>0</td>\n",
       "      <td>17.0</td>\n",
       "      <td>4</td>\n",
       "      <td>2</td>\n",
       "      <td>3101281</td>\n",
       "      <td>7.9250</td>\n",
       "      <td>NaN</td>\n",
       "      <td>3</td>\n",
       "      <td>5</td>\n",
       "      <td>1</td>\n",
       "      <td>0.0</td>\n",
       "    </tr>\n",
       "    <tr>\n",
       "      <th>254</th>\n",
       "      <td>3</td>\n",
       "      <td>Lobb, Mr. William Arthur</td>\n",
       "      <td>1</td>\n",
       "      <td>30.0</td>\n",
       "      <td>1</td>\n",
       "      <td>0</td>\n",
       "      <td>A/5. 3336</td>\n",
       "      <td>16.1000</td>\n",
       "      <td>NaN</td>\n",
       "      <td>3</td>\n",
       "      <td>7</td>\n",
       "      <td>2</td>\n",
       "      <td>0.0</td>\n",
       "    </tr>\n",
       "    <tr>\n",
       "      <th>321</th>\n",
       "      <td>3</td>\n",
       "      <td>Dennis, Mr. Samuel</td>\n",
       "      <td>1</td>\n",
       "      <td>22.0</td>\n",
       "      <td>0</td>\n",
       "      <td>0</td>\n",
       "      <td>A/5 21172</td>\n",
       "      <td>7.2500</td>\n",
       "      <td>NaN</td>\n",
       "      <td>3</td>\n",
       "      <td>4</td>\n",
       "      <td>2</td>\n",
       "      <td>0.0</td>\n",
       "    </tr>\n",
       "    <tr>\n",
       "      <th>707</th>\n",
       "      <td>2</td>\n",
       "      <td>Kelly, Mrs. Florence \"Fannie\"</td>\n",
       "      <td>0</td>\n",
       "      <td>45.0</td>\n",
       "      <td>0</td>\n",
       "      <td>0</td>\n",
       "      <td>223596</td>\n",
       "      <td>13.5000</td>\n",
       "      <td>NaN</td>\n",
       "      <td>3</td>\n",
       "      <td>0</td>\n",
       "      <td>3</td>\n",
       "      <td>0.0</td>\n",
       "    </tr>\n",
       "  </tbody>\n",
       "</table>\n",
       "</div>"
      ],
      "text/plain": [
       "             Pclass                             Name  Sex   Age  SibSp  Parch  \\\n",
       "PassengerId                                                                     \n",
       "106               3            Mionoff, Mr. Stoytcho    1  28.0      0      0   \n",
       "69                3  Andersson, Miss. Erna Alexandra    0  17.0      4      2   \n",
       "254               3         Lobb, Mr. William Arthur    1  30.0      1      0   \n",
       "321               3               Dennis, Mr. Samuel    1  22.0      0      0   \n",
       "707               2    Kelly, Mrs. Florence \"Fannie\"    0  45.0      0      0   \n",
       "\n",
       "                Ticket     Fare Cabin  Embarked  AgeGroup  Title  Cabin_01  \n",
       "PassengerId                                                                 \n",
       "106             349207   7.8958   NaN         3         7      2       0.0  \n",
       "69             3101281   7.9250   NaN         3         5      1       0.0  \n",
       "254          A/5. 3336  16.1000   NaN         3         7      2       0.0  \n",
       "321          A/5 21172   7.2500   NaN         3         4      2       0.0  \n",
       "707             223596  13.5000   NaN         3         0      3       0.0  "
      ]
     },
     "execution_count": 307,
     "metadata": {},
     "output_type": "execute_result"
    }
   ],
   "source": [
    "from sklearn.preprocessing import LabelEncoder\n",
    "\n",
    "# Copy\n",
    "X_train_label = X_train.copy()\n",
    "X_valid_label = X_valid.copy()\n",
    "\n",
    "# Apply Label Encoder\n",
    "label_encoder = LabelEncoder()\n",
    "\n",
    "# Define features to be encoded\n",
    "object_cols = ['Embarked', 'Sex', 'Title', 'AgeGroup']\n",
    "\n",
    "# Need to replace NaNs with a string for the encoder to work\n",
    "X_train.Embarked.fillna('None',inplace=True)\n",
    "\n",
    "for col in object_cols:\n",
    "    X_train_label[col] = label_encoder.fit_transform(X_train[col])\n",
    "    X_valid_label[col] = label_encoder.fit_transform(X_valid[col])\n",
    "\n",
    "X_train_label.head()"
   ]
  },
  {
   "cell_type": "code",
   "execution_count": 308,
   "metadata": {},
   "outputs": [
    {
     "data": {
      "text/plain": [
       "0.2248659348872353"
      ]
     },
     "execution_count": 308,
     "metadata": {},
     "output_type": "execute_result"
    }
   ],
   "source": [
    "# Select the features\n",
    "features = pd.Series(X_train_label.columns, index=X_train_label.columns)\n",
    "features.drop(['Name','Age','Ticket','Cabin'], axis=0, inplace=True)\n",
    "features = list(features)\n",
    "\n",
    "X_train_label = X_train_label[features]\n",
    "X_valid_label = X_valid_label[features]\n",
    "\n",
    "score_label = score_dataset(X_train_label, X_valid_label, y_train, y_valid)\n",
    "score_label"
   ]
  },
  {
   "cell_type": "markdown",
   "metadata": {},
   "source": [
    "## Target Encoding\n",
    "\n",
    "Target Encoding assigns to each categorial value the corresponding mean target value. For instance, 19% of the men survived which converts all rows where `Sex == 'male'` to `0.19`. "
   ]
  },
  {
   "cell_type": "code",
   "execution_count": 309,
   "metadata": {
    "scrolled": true
   },
   "outputs": [
    {
     "data": {
      "text/html": [
       "<div>\n",
       "<style scoped>\n",
       "    .dataframe tbody tr th:only-of-type {\n",
       "        vertical-align: middle;\n",
       "    }\n",
       "\n",
       "    .dataframe tbody tr th {\n",
       "        vertical-align: top;\n",
       "    }\n",
       "\n",
       "    .dataframe thead th {\n",
       "        text-align: right;\n",
       "    }\n",
       "</style>\n",
       "<table border=\"1\" class=\"dataframe\">\n",
       "  <thead>\n",
       "    <tr style=\"text-align: right;\">\n",
       "      <th></th>\n",
       "      <th>Pclass</th>\n",
       "      <th>Name</th>\n",
       "      <th>Sex</th>\n",
       "      <th>Age</th>\n",
       "      <th>SibSp</th>\n",
       "      <th>Parch</th>\n",
       "      <th>Ticket</th>\n",
       "      <th>Fare</th>\n",
       "      <th>Cabin</th>\n",
       "      <th>Embarked</th>\n",
       "      <th>AgeGroup</th>\n",
       "      <th>Title</th>\n",
       "      <th>Cabin_01</th>\n",
       "    </tr>\n",
       "    <tr>\n",
       "      <th>PassengerId</th>\n",
       "      <th></th>\n",
       "      <th></th>\n",
       "      <th></th>\n",
       "      <th></th>\n",
       "      <th></th>\n",
       "      <th></th>\n",
       "      <th></th>\n",
       "      <th></th>\n",
       "      <th></th>\n",
       "      <th></th>\n",
       "      <th></th>\n",
       "      <th></th>\n",
       "      <th></th>\n",
       "    </tr>\n",
       "  </thead>\n",
       "  <tbody>\n",
       "    <tr>\n",
       "      <th>106</th>\n",
       "      <td>3</td>\n",
       "      <td>Mionoff, Mr. Stoytcho</td>\n",
       "      <td>0.192220</td>\n",
       "      <td>28.0</td>\n",
       "      <td>0</td>\n",
       "      <td>0</td>\n",
       "      <td>349207</td>\n",
       "      <td>7.8958</td>\n",
       "      <td>NaN</td>\n",
       "      <td>0.344898</td>\n",
       "      <td>0.301587</td>\n",
       "      <td>0.157360</td>\n",
       "      <td>0.305284</td>\n",
       "    </tr>\n",
       "    <tr>\n",
       "      <th>69</th>\n",
       "      <td>3</td>\n",
       "      <td>Andersson, Miss. Erna Alexandra</td>\n",
       "      <td>0.753247</td>\n",
       "      <td>17.0</td>\n",
       "      <td>4</td>\n",
       "      <td>2</td>\n",
       "      <td>3101281</td>\n",
       "      <td>7.9250</td>\n",
       "      <td>NaN</td>\n",
       "      <td>0.344898</td>\n",
       "      <td>0.431373</td>\n",
       "      <td>0.703704</td>\n",
       "      <td>0.305284</td>\n",
       "    </tr>\n",
       "    <tr>\n",
       "      <th>254</th>\n",
       "      <td>3</td>\n",
       "      <td>Lobb, Mr. William Arthur</td>\n",
       "      <td>0.192220</td>\n",
       "      <td>30.0</td>\n",
       "      <td>1</td>\n",
       "      <td>0</td>\n",
       "      <td>A/5. 3336</td>\n",
       "      <td>16.1000</td>\n",
       "      <td>NaN</td>\n",
       "      <td>0.344898</td>\n",
       "      <td>0.301587</td>\n",
       "      <td>0.157360</td>\n",
       "      <td>0.305284</td>\n",
       "    </tr>\n",
       "    <tr>\n",
       "      <th>321</th>\n",
       "      <td>3</td>\n",
       "      <td>Dennis, Mr. Samuel</td>\n",
       "      <td>0.192220</td>\n",
       "      <td>22.0</td>\n",
       "      <td>0</td>\n",
       "      <td>0</td>\n",
       "      <td>A/5 21172</td>\n",
       "      <td>7.2500</td>\n",
       "      <td>NaN</td>\n",
       "      <td>0.344898</td>\n",
       "      <td>0.357143</td>\n",
       "      <td>0.157360</td>\n",
       "      <td>0.305284</td>\n",
       "    </tr>\n",
       "    <tr>\n",
       "      <th>707</th>\n",
       "      <td>2</td>\n",
       "      <td>Kelly, Mrs. Florence \"Fannie\"</td>\n",
       "      <td>0.753247</td>\n",
       "      <td>45.0</td>\n",
       "      <td>0</td>\n",
       "      <td>0</td>\n",
       "      <td>223596</td>\n",
       "      <td>13.5000</td>\n",
       "      <td>NaN</td>\n",
       "      <td>0.344898</td>\n",
       "      <td>0.437126</td>\n",
       "      <td>0.819149</td>\n",
       "      <td>0.305284</td>\n",
       "    </tr>\n",
       "  </tbody>\n",
       "</table>\n",
       "</div>"
      ],
      "text/plain": [
       "             Pclass                             Name       Sex   Age  SibSp  \\\n",
       "PassengerId                                                                   \n",
       "106               3            Mionoff, Mr. Stoytcho  0.192220  28.0      0   \n",
       "69                3  Andersson, Miss. Erna Alexandra  0.753247  17.0      4   \n",
       "254               3         Lobb, Mr. William Arthur  0.192220  30.0      1   \n",
       "321               3               Dennis, Mr. Samuel  0.192220  22.0      0   \n",
       "707               2    Kelly, Mrs. Florence \"Fannie\"  0.753247  45.0      0   \n",
       "\n",
       "             Parch     Ticket     Fare Cabin  Embarked  AgeGroup     Title  \\\n",
       "PassengerId                                                                  \n",
       "106              0     349207   7.8958   NaN  0.344898  0.301587  0.157360   \n",
       "69               2    3101281   7.9250   NaN  0.344898  0.431373  0.703704   \n",
       "254              0  A/5. 3336  16.1000   NaN  0.344898  0.301587  0.157360   \n",
       "321              0  A/5 21172   7.2500   NaN  0.344898  0.357143  0.157360   \n",
       "707              0     223596  13.5000   NaN  0.344898  0.437126  0.819149   \n",
       "\n",
       "             Cabin_01  \n",
       "PassengerId            \n",
       "106          0.305284  \n",
       "69           0.305284  \n",
       "254          0.305284  \n",
       "321          0.305284  \n",
       "707          0.305284  "
      ]
     },
     "execution_count": 309,
     "metadata": {},
     "output_type": "execute_result"
    }
   ],
   "source": [
    "from category_encoders import TargetEncoder\n",
    "\n",
    "# Select columns to be target encoded\n",
    "object_cols = ['Embarked', 'Sex', 'Title', 'AgeGroup', 'Cabin_01']\n",
    "\n",
    "target_encoder = TargetEncoder(cols=object_cols)\n",
    "\n",
    "X_train_target = target_encoder.fit_transform(X_train, y_train)\n",
    "X_valid_target = target_encoder.transform(X_valid, y_valid)\n",
    "X_train_target.head()"
   ]
  },
  {
   "cell_type": "code",
   "execution_count": 310,
   "metadata": {},
   "outputs": [
    {
     "data": {
      "text/plain": [
       "0.22706859519916758"
      ]
     },
     "execution_count": 310,
     "metadata": {},
     "output_type": "execute_result"
    }
   ],
   "source": [
    "# Select the features\n",
    "features = pd.Series(X_train_target.columns, index=X_train_target.columns)\n",
    "features.drop(['Name','Age','Ticket','Cabin'], axis=0, inplace=True)\n",
    "features = list(features)\n",
    "\n",
    "X_train_target = X_train_target[features]\n",
    "X_valid_target = X_valid_target[features]\n",
    "\n",
    "score_target = score_dataset(X_train_target, X_valid_target, y_train, y_valid)\n",
    "score_target"
   ]
  },
  {
   "cell_type": "markdown",
   "metadata": {},
   "source": [
    "## Count Encoding\n",
    "Count encoding replaces each categorical value with the number of times it appears in the dataset. For example, if the value \"GB\" occured 10 times in the country feature, then each \"GB\" would be replaced with the number 10."
   ]
  },
  {
   "cell_type": "code",
   "execution_count": 311,
   "metadata": {
    "scrolled": true
   },
   "outputs": [
    {
     "data": {
      "text/html": [
       "<div>\n",
       "<style scoped>\n",
       "    .dataframe tbody tr th:only-of-type {\n",
       "        vertical-align: middle;\n",
       "    }\n",
       "\n",
       "    .dataframe tbody tr th {\n",
       "        vertical-align: top;\n",
       "    }\n",
       "\n",
       "    .dataframe thead th {\n",
       "        text-align: right;\n",
       "    }\n",
       "</style>\n",
       "<table border=\"1\" class=\"dataframe\">\n",
       "  <thead>\n",
       "    <tr style=\"text-align: right;\">\n",
       "      <th></th>\n",
       "      <th>Pclass</th>\n",
       "      <th>Name</th>\n",
       "      <th>Age</th>\n",
       "      <th>SibSp</th>\n",
       "      <th>Parch</th>\n",
       "      <th>Ticket</th>\n",
       "      <th>Fare</th>\n",
       "      <th>Cabin</th>\n",
       "      <th>Embarked</th>\n",
       "      <th>Sex</th>\n",
       "      <th>Title</th>\n",
       "      <th>AgeGroup</th>\n",
       "      <th>Cabin_01</th>\n",
       "    </tr>\n",
       "    <tr>\n",
       "      <th>PassengerId</th>\n",
       "      <th></th>\n",
       "      <th></th>\n",
       "      <th></th>\n",
       "      <th></th>\n",
       "      <th></th>\n",
       "      <th></th>\n",
       "      <th></th>\n",
       "      <th></th>\n",
       "      <th></th>\n",
       "      <th></th>\n",
       "      <th></th>\n",
       "      <th></th>\n",
       "      <th></th>\n",
       "    </tr>\n",
       "  </thead>\n",
       "  <tbody>\n",
       "    <tr>\n",
       "      <th>496</th>\n",
       "      <td>3</td>\n",
       "      <td>Yousseff, Mr. Gerious</td>\n",
       "      <td>-0.5</td>\n",
       "      <td>0</td>\n",
       "      <td>0</td>\n",
       "      <td>2627</td>\n",
       "      <td>14.4583</td>\n",
       "      <td>NaN</td>\n",
       "      <td>116</td>\n",
       "      <td>437</td>\n",
       "      <td>394</td>\n",
       "      <td>252</td>\n",
       "      <td>0.0</td>\n",
       "    </tr>\n",
       "    <tr>\n",
       "      <th>649</th>\n",
       "      <td>3</td>\n",
       "      <td>Willey, Mr. Edward</td>\n",
       "      <td>-0.5</td>\n",
       "      <td>0</td>\n",
       "      <td>0</td>\n",
       "      <td>S.O./P.P. 751</td>\n",
       "      <td>7.5500</td>\n",
       "      <td>NaN</td>\n",
       "      <td>490</td>\n",
       "      <td>437</td>\n",
       "      <td>394</td>\n",
       "      <td>252</td>\n",
       "      <td>0.0</td>\n",
       "    </tr>\n",
       "    <tr>\n",
       "      <th>279</th>\n",
       "      <td>3</td>\n",
       "      <td>Rice, Master. Eric</td>\n",
       "      <td>7.0</td>\n",
       "      <td>4</td>\n",
       "      <td>1</td>\n",
       "      <td>382652</td>\n",
       "      <td>29.1250</td>\n",
       "      <td>NaN</td>\n",
       "      <td>60</td>\n",
       "      <td>437</td>\n",
       "      <td>33</td>\n",
       "      <td>17</td>\n",
       "      <td>0.0</td>\n",
       "    </tr>\n",
       "    <tr>\n",
       "      <th>32</th>\n",
       "      <td>1</td>\n",
       "      <td>Spencer, Mrs. William Augustus (Marie Eugenie)</td>\n",
       "      <td>-0.5</td>\n",
       "      <td>1</td>\n",
       "      <td>0</td>\n",
       "      <td>PC 17569</td>\n",
       "      <td>146.5208</td>\n",
       "      <td>B78</td>\n",
       "      <td>116</td>\n",
       "      <td>231</td>\n",
       "      <td>94</td>\n",
       "      <td>252</td>\n",
       "      <td>1.0</td>\n",
       "    </tr>\n",
       "    <tr>\n",
       "      <th>256</th>\n",
       "      <td>3</td>\n",
       "      <td>Touma, Mrs. Darwis (Hanne Youssef Razi)</td>\n",
       "      <td>29.0</td>\n",
       "      <td>0</td>\n",
       "      <td>2</td>\n",
       "      <td>2650</td>\n",
       "      <td>15.2458</td>\n",
       "      <td>NaN</td>\n",
       "      <td>116</td>\n",
       "      <td>231</td>\n",
       "      <td>94</td>\n",
       "      <td>252</td>\n",
       "      <td>0.0</td>\n",
       "    </tr>\n",
       "  </tbody>\n",
       "</table>\n",
       "</div>"
      ],
      "text/plain": [
       "             Pclass                                            Name   Age  \\\n",
       "PassengerId                                                                 \n",
       "496               3                           Yousseff, Mr. Gerious  -0.5   \n",
       "649               3                              Willey, Mr. Edward  -0.5   \n",
       "279               3                              Rice, Master. Eric   7.0   \n",
       "32                1  Spencer, Mrs. William Augustus (Marie Eugenie)  -0.5   \n",
       "256               3         Touma, Mrs. Darwis (Hanne Youssef Razi)  29.0   \n",
       "\n",
       "             SibSp  Parch         Ticket      Fare Cabin  Embarked  Sex  \\\n",
       "PassengerId                                                               \n",
       "496              0      0           2627   14.4583   NaN       116  437   \n",
       "649              0      0  S.O./P.P. 751    7.5500   NaN       490  437   \n",
       "279              4      1         382652   29.1250   NaN        60  437   \n",
       "32               1      0       PC 17569  146.5208   B78       116  231   \n",
       "256              0      2           2650   15.2458   NaN       116  231   \n",
       "\n",
       "             Title AgeGroup  Cabin_01  \n",
       "PassengerId                            \n",
       "496            394      252       0.0  \n",
       "649            394      252       0.0  \n",
       "279             33       17       0.0  \n",
       "32              94      252       1.0  \n",
       "256             94      252       0.0  "
      ]
     },
     "execution_count": 311,
     "metadata": {},
     "output_type": "execute_result"
    }
   ],
   "source": [
    "from category_encoders import CountEncoder\n",
    "count_encoder = CountEncoder()\n",
    "\n",
    "# Copy\n",
    "X_train_count = X_train.copy()\n",
    "X_valid_count = X_valid.copy()\n",
    "\n",
    "object_cols = ['Embarked', 'Sex', 'Title', 'AgeGroup', 'Cabin_01']\n",
    "\n",
    "X_train_count = count_encoder.fit_transform(X_train[object_cols])\n",
    "X_valid_count = count_encoder.transform(X_valid[object_cols])\n",
    "\n",
    "# Remove categorical columns (will replace with one-hot encoding)\n",
    "num_X_train = X_train.drop(object_cols, axis=1)\n",
    "num_X_valid = X_valid.drop(object_cols, axis=1)\n",
    "\n",
    "# Add one-hot encoded columns to numerical features\n",
    "X_train_count = pd.concat([num_X_train, X_train_count], axis=1)\n",
    "X_valid_count = pd.concat([num_X_valid, X_valid_count], axis=1)\n",
    "\n",
    "X_valid_count.head()"
   ]
  },
  {
   "cell_type": "code",
   "execution_count": 312,
   "metadata": {},
   "outputs": [
    {
     "data": {
      "text/plain": [
       "0.22942551194958213"
      ]
     },
     "execution_count": 312,
     "metadata": {},
     "output_type": "execute_result"
    }
   ],
   "source": [
    "# Include all features, except Name, Age, Ticket, Cabin\n",
    "features = pd.Series(X_train_count.columns, index=X_train_count.columns)\n",
    "features.drop(['Name','Age','Ticket','Cabin'], axis=0, inplace=True)\n",
    "features = list(features)\n",
    "\n",
    "X_train_count = X_train_count[features]\n",
    "X_valid_count = X_valid_count[features]\n",
    "\n",
    "score_count = score_dataset(X_train_count, X_valid_count, y_train, y_valid)\n",
    "score_count"
   ]
  },
  {
   "cell_type": "markdown",
   "metadata": {},
   "source": [
    "## Comparing\n",
    "We see that one-hot and target encoding are performing better than label encoding. The difference between the first two encoders is very small. In the next step, I will try to use both encoders to improve the score further."
   ]
  },
  {
   "cell_type": "code",
   "execution_count": 313,
   "metadata": {},
   "outputs": [
    {
     "data": {
      "text/html": [
       "<div>\n",
       "<style scoped>\n",
       "    .dataframe tbody tr th:only-of-type {\n",
       "        vertical-align: middle;\n",
       "    }\n",
       "\n",
       "    .dataframe tbody tr th {\n",
       "        vertical-align: top;\n",
       "    }\n",
       "\n",
       "    .dataframe thead th {\n",
       "        text-align: right;\n",
       "    }\n",
       "</style>\n",
       "<table border=\"1\" class=\"dataframe\">\n",
       "  <thead>\n",
       "    <tr style=\"text-align: right;\">\n",
       "      <th></th>\n",
       "      <th>0</th>\n",
       "    </tr>\n",
       "  </thead>\n",
       "  <tbody>\n",
       "    <tr>\n",
       "      <th>label</th>\n",
       "      <td>0.224866</td>\n",
       "    </tr>\n",
       "    <tr>\n",
       "      <th>target</th>\n",
       "      <td>0.227069</td>\n",
       "    </tr>\n",
       "    <tr>\n",
       "      <th>OH</th>\n",
       "      <td>0.227137</td>\n",
       "    </tr>\n",
       "    <tr>\n",
       "      <th>count</th>\n",
       "      <td>0.229426</td>\n",
       "    </tr>\n",
       "  </tbody>\n",
       "</table>\n",
       "</div>"
      ],
      "text/plain": [
       "               0\n",
       "label   0.224866\n",
       "target  0.227069\n",
       "OH      0.227137\n",
       "count   0.229426"
      ]
     },
     "execution_count": 313,
     "metadata": {},
     "output_type": "execute_result"
    }
   ],
   "source": [
    "# Compare the different encoders\n",
    "scores = [score_OH, score_label, score_target, score_count]\n",
    "encoders = ['OH', 'label', 'target', 'count']\n",
    "encoders_df = pd.DataFrame(data=scores, index=encoders)\n",
    "encoders_df.sort_values(by=0)"
   ]
  },
  {
   "cell_type": "markdown",
   "metadata": {},
   "source": [
    "## Combining Multiple Encoders"
   ]
  },
  {
   "cell_type": "code",
   "execution_count": null,
   "metadata": {},
   "outputs": [],
   "source": [
    "from sklearn.preprocessing import OneHotEncoder, LabelEncoder\n",
    "from category_encoders import TargetEncoder\n",
    "\n",
    "\n"
   ]
  },
  {
   "cell_type": "markdown",
   "metadata": {},
   "source": [
    "# Modeling"
   ]
  },
  {
   "cell_type": "code",
   "execution_count": 114,
   "metadata": {
    "scrolled": true
   },
   "outputs": [
    {
     "data": {
      "text/plain": [
       "XGBClassifier(base_score=0.5, booster='gbtree', colsample_bylevel=1,\n",
       "              colsample_bynode=1, colsample_bytree=1, gamma=0, gpu_id=-1,\n",
       "              importance_type='gain', interaction_constraints='',\n",
       "              learning_rate=0.1, max_delta_step=0, max_depth=6,\n",
       "              min_child_weight=1, missing=nan, monotone_constraints='()',\n",
       "              n_estimators=1000, n_jobs=4, num_parallel_tree=1,\n",
       "              objective='binary:logistic', random_state=0, reg_alpha=0,\n",
       "              reg_lambda=1, scale_pos_weight=1, subsample=1,\n",
       "              tree_method='exact', validate_parameters=1, verbosity=None)"
      ]
     },
     "execution_count": 114,
     "metadata": {},
     "output_type": "execute_result"
    }
   ],
   "source": [
    "from xgboost import XGBClassifier\n",
    "my_model = XGBClassifier(n_estimators=1000, learning_rate=0.10, n_jobs=4)\n",
    "my_model.fit(X_train, y_train, verbose=False)"
   ]
  },
  {
   "cell_type": "code",
   "execution_count": 115,
   "metadata": {},
   "outputs": [
    {
     "name": "stdout",
     "output_type": "stream",
     "text": [
      "Mean Absolute Error: 0.16759776536312848\n"
     ]
    }
   ],
   "source": [
    "from sklearn.metrics import mean_absolute_error\n",
    "predictions = my_model.predict(X_valid)\n",
    "\n",
    "# Calculate MAE\n",
    "mae = mean_absolute_error(predictions, y_valid)\n",
    "print(\"Mean Absolute Error:\" , mae)"
   ]
  },
  {
   "cell_type": "code",
   "execution_count": 127,
   "metadata": {},
   "outputs": [
    {
     "name": "stdout",
     "output_type": "stream",
     "text": [
      "418\n",
      "418\n"
     ]
    }
   ],
   "source": [
    "from xgboost import XGBClassifier\n",
    "\n",
    "my_model = XGBClassifier(n_estimators=1000, learning_rate=0.10, n_jobs=4)\n",
    "my_model.fit(X_train, y_train, verbose=False)\n",
    "predictions = my_model.predict(X_test)\n",
    "print(len(predictions))\n",
    "print(len(test.PassengerId))"
   ]
  },
  {
   "cell_type": "code",
   "execution_count": 128,
   "metadata": {
    "scrolled": true
   },
   "outputs": [],
   "source": [
    "# set the output as a dataframe and convert to csv file named submission.csv\n",
    "output = pd.DataFrame({ 'PassengerId' : test.PassengerId, 'Survived': predictions })\n",
    "output.to_csv('submission.csv', index=False)"
   ]
  }
 ],
 "metadata": {
  "kernelspec": {
   "display_name": "Python 3",
   "language": "python",
   "name": "python3"
  },
  "language_info": {
   "codemirror_mode": {
    "name": "ipython",
    "version": 3
   },
   "file_extension": ".py",
   "mimetype": "text/x-python",
   "name": "python",
   "nbconvert_exporter": "python",
   "pygments_lexer": "ipython3",
   "version": "3.8.3"
  },
  "toc": {
   "base_numbering": 1,
   "nav_menu": {
    "height": "183px",
    "width": "200px"
   },
   "number_sections": true,
   "sideBar": true,
   "skip_h1_title": false,
   "title_cell": "Table of Contents",
   "title_sidebar": "Contents",
   "toc_cell": true,
   "toc_position": {
    "height": "calc(100% - 180px)",
    "left": "10px",
    "top": "150px",
    "width": "256px"
   },
   "toc_section_display": true,
   "toc_window_display": true
  },
  "varInspector": {
   "cols": {
    "lenName": 16,
    "lenType": 16,
    "lenVar": 40
   },
   "kernels_config": {
    "python": {
     "delete_cmd_postfix": "",
     "delete_cmd_prefix": "del ",
     "library": "var_list.py",
     "varRefreshCmd": "print(var_dic_list())"
    },
    "r": {
     "delete_cmd_postfix": ") ",
     "delete_cmd_prefix": "rm(",
     "library": "var_list.r",
     "varRefreshCmd": "cat(var_dic_list()) "
    }
   },
   "types_to_exclude": [
    "module",
    "function",
    "builtin_function_or_method",
    "instance",
    "_Feature"
   ],
   "window_display": false
  }
 },
 "nbformat": 4,
 "nbformat_minor": 4
}
